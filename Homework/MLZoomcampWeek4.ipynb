{
  "nbformat": 4,
  "nbformat_minor": 0,
  "metadata": {
    "colab": {
      "provenance": [],
      "authorship_tag": "ABX9TyNB2uHyrzqswrx7EXIN+BP8",
      "include_colab_link": true
    },
    "kernelspec": {
      "name": "python3",
      "display_name": "Python 3"
    },
    "language_info": {
      "name": "python"
    }
  },
  "cells": [
    {
      "cell_type": "markdown",
      "metadata": {
        "id": "view-in-github",
        "colab_type": "text"
      },
      "source": [
        "<a href=\"https://colab.research.google.com/github/gregorywmorris/DPhi/blob/main/Homework/MLZoomcampWeek4.ipynb\" target=\"_parent\"><img src=\"https://colab.research.google.com/assets/colab-badge.svg\" alt=\"Open In Colab\"/></a>"
      ]
    },
    {
      "cell_type": "markdown",
      "source": [
        "#Week 4 HW"
      ],
      "metadata": {
        "id": "ARTjbIW3GrcO"
      }
    },
    {
      "cell_type": "markdown",
      "source": [
        "Homework\n",
        "Note: sometimes your answer doesn't match one of the options exactly. That's fine. Select the option that's closest to your solution.\n",
        "\n",
        "Dataset\n",
        "In this homework, we will use the California Housing Prices data from Kaggle.\n",
        "\n",
        "Here's a wget-able link:\n",
        "\n",
        "wget https://raw.githubusercontent.com/alexeygrigorev/datasets/master/housing.csv\n",
        "We'll keep working with the 'median_house_value' variable, and we'll transform it to a classification task.\n",
        "\n",
        "\n",
        "# Features\n",
        "For the rest of the homework, you'll need to use only these columns:\n",
        "\n",
        "* 'latitude',\n",
        "* 'longitude',\n",
        "* 'housing_median_age',\n",
        "* 'total_rooms',\n",
        "* 'total_bedrooms',\n",
        "* 'population',\n",
        "* 'households',\n",
        "* 'median_income',\n",
        "* 'median_house_value',\n",
        "* 'ocean_proximity'"
      ],
      "metadata": {
        "id": "ei1Y6hSPCi82"
      }
    },
    {
      "cell_type": "code",
      "source": [
        "import pandas as pd \n",
        "import numpy as np \n",
        "\n",
        "import seaborn as sns\n",
        "from matplotlib import pyplot as pyplot\n",
        "%matplotlib inline"
      ],
      "metadata": {
        "id": "AYuLIDRaHOeW"
      },
      "execution_count": 3,
      "outputs": []
    },
    {
      "cell_type": "code",
      "source": [
        "data = 'https://raw.githubusercontent.com/alexeygrigorev/datasets/master/housing.csv'\n",
        "!wget $data -O data.csv "
      ],
      "metadata": {
        "colab": {
          "base_uri": "https://localhost:8080/"
        },
        "id": "17ZdBDyjGzq8",
        "outputId": "5d2853b5-9861-4212-8ff3-f81d55eda2bf"
      },
      "execution_count": 5,
      "outputs": [
        {
          "output_type": "stream",
          "name": "stdout",
          "text": [
            "--2022-09-23 20:50:39--  https://raw.githubusercontent.com/alexeygrigorev/datasets/master/housing.csv\n",
            "Resolving raw.githubusercontent.com (raw.githubusercontent.com)... 185.199.110.133, 185.199.108.133, 185.199.109.133, ...\n",
            "Connecting to raw.githubusercontent.com (raw.githubusercontent.com)|185.199.110.133|:443... connected.\n",
            "HTTP request sent, awaiting response... 200 OK\n",
            "Length: 1423529 (1.4M) [text/plain]\n",
            "Saving to: ‘data.csv’\n",
            "\n",
            "\rdata.csv              0%[                    ]       0  --.-KB/s               \rdata.csv            100%[===================>]   1.36M  --.-KB/s    in 0.02s   \n",
            "\n",
            "2022-09-23 20:50:39 (62.1 MB/s) - ‘data.csv’ saved [1423529/1423529]\n",
            "\n"
          ]
        }
      ]
    },
    {
      "cell_type": "code",
      "source": [
        "df = pd.read_csv('data.csv') "
      ],
      "metadata": {
        "id": "JTOmZf9hHFUj"
      },
      "execution_count": 6,
      "outputs": []
    },
    {
      "cell_type": "markdown",
      "source": [
        "# Data preparation\n",
        "Select only the features from above and fill in the missing values with 0.\n",
        "Create a new column rooms_per_household by dividing the column total_rooms by the column households from dataframe.\n",
        "Create a new column bedrooms_per_room by dividing the column total_bedrooms by the column total_rooms from dataframe.\n",
        "Create a new column population_per_household by dividing the column population by the column households from dataframe.\n",
        "\n",
        "\n",
        "\n",
        "\n",
        "\n",
        "\n",
        "\n"
      ],
      "metadata": {
        "id": "3eHQty4kCjIU"
      }
    },
    {
      "cell_type": "code",
      "source": [
        "columns = ['latitude',\n",
        "'longitude',\n",
        "'housing_median_age',\n",
        "'total_rooms',\n",
        "'total_bedrooms',\n",
        "'population',\n",
        "'households',\n",
        "'median_income',\n",
        "'median_house_value',\n",
        "'ocean_proximity']"
      ],
      "metadata": {
        "id": "NE-2B7PDHye4"
      },
      "execution_count": 8,
      "outputs": []
    },
    {
      "cell_type": "code",
      "source": [
        "df.columns = df.columns[columns]"
      ],
      "metadata": {
        "colab": {
          "base_uri": "https://localhost:8080/",
          "height": 341
        },
        "id": "LbiDPcKGH7Ny",
        "outputId": "ad439784-d1b5-410e-d03b-b2f88cf32695"
      },
      "execution_count": 9,
      "outputs": [
        {
          "output_type": "stream",
          "name": "stderr",
          "text": [
            "/usr/local/lib/python3.7/dist-packages/pandas/core/indexes/base.py:4616: FutureWarning: Using a non-tuple sequence for multidimensional indexing is deprecated; use `arr[tuple(seq)]` instead of `arr[seq]`. In the future this will be interpreted as an array index, `arr[np.array(seq)]`, which will result either in an error or a different result.\n",
            "  result = getitem(key)\n"
          ]
        },
        {
          "output_type": "error",
          "ename": "IndexError",
          "evalue": "ignored",
          "traceback": [
            "\u001b[0;31m---------------------------------------------------------------------------\u001b[0m",
            "\u001b[0;31mIndexError\u001b[0m                                Traceback (most recent call last)",
            "\u001b[0;32m<ipython-input-9-96a880aec00d>\u001b[0m in \u001b[0;36m<module>\u001b[0;34m\u001b[0m\n\u001b[0;32m----> 1\u001b[0;31m \u001b[0mdf\u001b[0m\u001b[0;34m.\u001b[0m\u001b[0mcolumns\u001b[0m \u001b[0;34m=\u001b[0m \u001b[0mdf\u001b[0m\u001b[0;34m.\u001b[0m\u001b[0mcolumns\u001b[0m\u001b[0;34m[\u001b[0m\u001b[0mcolumns\u001b[0m\u001b[0;34m]\u001b[0m\u001b[0;34m\u001b[0m\u001b[0;34m\u001b[0m\u001b[0m\n\u001b[0m",
            "\u001b[0;32m/usr/local/lib/python3.7/dist-packages/pandas/core/indexes/base.py\u001b[0m in \u001b[0;36m__getitem__\u001b[0;34m(self, key)\u001b[0m\n\u001b[1;32m   4614\u001b[0m             \u001b[0mkey\u001b[0m \u001b[0;34m=\u001b[0m \u001b[0mnp\u001b[0m\u001b[0;34m.\u001b[0m\u001b[0masarray\u001b[0m\u001b[0;34m(\u001b[0m\u001b[0mkey\u001b[0m\u001b[0;34m,\u001b[0m \u001b[0mdtype\u001b[0m\u001b[0;34m=\u001b[0m\u001b[0mbool\u001b[0m\u001b[0;34m)\u001b[0m\u001b[0;34m\u001b[0m\u001b[0;34m\u001b[0m\u001b[0m\n\u001b[1;32m   4615\u001b[0m \u001b[0;34m\u001b[0m\u001b[0m\n\u001b[0;32m-> 4616\u001b[0;31m         \u001b[0mresult\u001b[0m \u001b[0;34m=\u001b[0m \u001b[0mgetitem\u001b[0m\u001b[0;34m(\u001b[0m\u001b[0mkey\u001b[0m\u001b[0;34m)\u001b[0m\u001b[0;34m\u001b[0m\u001b[0;34m\u001b[0m\u001b[0m\n\u001b[0m\u001b[1;32m   4617\u001b[0m         \u001b[0;32mif\u001b[0m \u001b[0;32mnot\u001b[0m \u001b[0mis_scalar\u001b[0m\u001b[0;34m(\u001b[0m\u001b[0mresult\u001b[0m\u001b[0;34m)\u001b[0m\u001b[0;34m:\u001b[0m\u001b[0;34m\u001b[0m\u001b[0;34m\u001b[0m\u001b[0m\n\u001b[1;32m   4618\u001b[0m             \u001b[0;31m# error: Argument 1 to \"ndim\" has incompatible type \"Union[ExtensionArray,\u001b[0m\u001b[0;34m\u001b[0m\u001b[0;34m\u001b[0m\u001b[0;34m\u001b[0m\u001b[0m\n",
            "\u001b[0;31mIndexError\u001b[0m: only integers, slices (`:`), ellipsis (`...`), numpy.newaxis (`None`) and integer or boolean arrays are valid indices"
          ]
        }
      ]
    },
    {
      "cell_type": "markdown",
      "source": [
        "# Question 1\n",
        "What is the most frequent observation (mode) for the column ocean_proximity?\n",
        "\n",
        "<br>Options:\n",
        "\n",
        "* NEAR BAY\n",
        "* < 1H OCEAN\n",
        "* INLAND\n",
        "* NEAR OCEAN"
      ],
      "metadata": {
        "id": "nFhHmEOaE2BL"
      }
    },
    {
      "cell_type": "markdown",
      "source": [
        "# Split the data\n",
        "* Split your data in train/val/test sets, with 60%/20%/20% distribution.\n",
        "Use Scikit-Learn for that (the train_test_split function) and set the seed to 42.\n",
        "* Make sure that the target value (median_house_value) is not in your dataframe."
      ],
      "metadata": {
        "id": "1tzrbPF7E5ri"
      }
    },
    {
      "cell_type": "markdown",
      "source": [
        "# Question 2\n",
        "Create the correlation matrix for the numerical features of your train dataset.\n",
        "In a correlation matrix, you compute the correlation coefficient between every pair of features in the dataset.\n",
        "What are the two features that have the biggest correlation in this dataset?\n",
        "\n",
        "<br>Options:\n",
        "\n",
        "* total_bedrooms and households\n",
        "* total_bedrooms and total_rooms\n",
        "* population and households\n",
        "* population_per_household and total_rooms"
      ],
      "metadata": {
        "id": "r5IJmiajFArC"
      }
    },
    {
      "cell_type": "markdown",
      "source": [
        "# Make median_house_value binary\n",
        "* We need to turn the median_house_value variable from numeric into binary.\n",
        "\n",
        "* Let's create a variable above_average which is 1 if the median_house_value is above its mean value and 0 otherwise.\n"
      ],
      "metadata": {
        "id": "LL01Pq1vFFTc"
      }
    },
    {
      "cell_type": "markdown",
      "source": [
        "# Question 3\n",
        "Calculate the mutual information score with the (binarized) price for the categorical variable that we have. Use the training set only.\n",
        "What is the value of mutual information?\n",
        "Round it to 2 decimal digits using round(score, 2)\n",
        "\n",
        "<br>Options:\n",
        "\n",
        "* 0.26\n",
        "* 0\n",
        "* 0.10\n",
        "* 0.16"
      ],
      "metadata": {
        "id": "eY75micMFrQ7"
      }
    },
    {
      "cell_type": "markdown",
      "source": [
        "# Question 4\n",
        "* Now let's train a logistic regression\n",
        "* Remember that we have one categorical variable ocean_proximity in the data. \n",
        "* Include it using one-hot encoding.\n",
        "* Fit the model on the training dataset.\n",
        "* To make sure the results are reproducible across different versions of Scikit-Learn, fit the model with these parameters:\n",
        "model = LogisticRegression(solver=\"liblinear\", C=1.0, max_iter=1000, random_state=42)\n",
        "* Calculate the accuracy on the validation dataset and round it to 2 decimal digits.\n",
        "\n",
        "<br>Options:\n",
        "\n",
        "* 0.60\n",
        "* 0.72\n",
        "* 0.84\n",
        "* 0.95"
      ],
      "metadata": {
        "id": "Iy4_vGm9FJ9q"
      }
    },
    {
      "cell_type": "markdown",
      "source": [
        "# Question 5\n",
        "* Let's find the least useful feature using the feature elimination technique.\n",
        "* Train a model with all these features (using the same parameters as in Q4).\n",
        "* Now exclude each feature from this set and train a model without it. Record the accuracy for each model.\n",
        "* For each feature, calculate the difference between the original accuracy and the accuracy without the feature.\n",
        "\n",
        "<br> Which of following feature has the smallest difference?\n",
        "\n",
        "* total_rooms\n",
        "* total_bedrooms\n",
        "* population\n",
        "* households\n",
        "* **note: the difference doesn't have to be positive"
      ],
      "metadata": {
        "id": "AfuCOwqqFWWS"
      }
    },
    {
      "cell_type": "markdown",
      "source": [
        "# Question 6\n",
        "* For this question, we'll see how to use a linear regression model from Scikit-Learn\n",
        "* We'll need to use the original column 'median_house_value'. Apply the logarithmic transformation to this column.\n",
        "* Fit the Ridge regression model (model = Ridge(alpha=a, solver=\"sag\", random_state=42)) on the training data.\n",
        "* This model has a parameter alpha. Let's try the following values: [0, 0.01, 0.1, 1, 10]\n",
        "* Which of these alphas leads to the best RMSE on the validation set? Round your RMSE scores to 3 decimal digits.\n",
        "* If there are multiple options, select the smallest alpha.\n",
        "\n",
        "<br> Options:\n",
        "\n",
        "* 0\n",
        "* 0.01\n",
        "* 0.1\n",
        "* 1\n",
        "* 10"
      ],
      "metadata": {
        "id": "W7FCVFL7FaKL"
      }
    },
    {
      "cell_type": "markdown",
      "source": [
        "# Submit the results\n",
        "Submit your results here: https://forms.gle/vQXAnQDeqA81HSu86\n",
        "You can submit your solution multiple times. In this case, only the last submission will be used\n",
        "<br>If your answer doesn't match options exactly, select the closest one\n",
        "<br>\n",
        "#Deadline\n",
        "The deadline for submitting is 26 September (Monday), 23:00 CEST.\n",
        "\n",
        "After that, the form will be closed"
      ],
      "metadata": {
        "id": "cYSrRUdfFeYq"
      }
    }
  ]
}